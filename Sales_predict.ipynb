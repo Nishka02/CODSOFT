{
 "cells": [
  {
   "cell_type": "code",
   "execution_count": null,
   "id": "3ad04c88",
   "metadata": {},
   "outputs": [
    {
     "name": "stderr",
     "output_type": "stream",
     "text": [
      "C:\\Users\\nick8\\anaconda3\\Lib\\site-packages\\sklearn\\base.py:464: UserWarning: X does not have valid feature names, but LinearRegression was fitted with feature names\n",
      "  warnings.warn(\n"
     ]
    }
   ],
   "source": [
    "import tkinter as tk\n",
    "from tkinter import ttk, messagebox\n",
    "import pandas as pd\n",
    "from sklearn.model_selection import train_test_split\n",
    "from sklearn.linear_model import LinearRegression\n",
    "from sklearn.metrics import mean_squared_error, r2_score\n",
    "\n",
    "# Load the dataset\n",
    "df = pd.read_csv('advertising.csv')\n",
    "\n",
    "# Assuming the last column is the target variable (Sales) and others are features (TV, Radio, Newspaper)\n",
    "X = df[['TV', 'Radio', 'Newspaper']]\n",
    "Y = df['Sales']\n",
    "\n",
    "# Split data into training and testing sets\n",
    "X_train, X_test, Y_train, Y_test = train_test_split(X, Y, test_size=0.4, random_state=1)\n",
    "\n",
    "# Train the model\n",
    "model = LinearRegression()\n",
    "model.fit(X_train, Y_train)\n",
    "\n",
    "# Function to predict sales based on user input\n",
    "def predict_sales():\n",
    "    try:\n",
    "        # Retrieve values from entry fields and convert to float\n",
    "        tv_spend = float(tv_entry.get())\n",
    "        radio_spend = float(radio_entry.get())\n",
    "        newspaper_spend = float(newspaper_entry.get())\n",
    "        \n",
    "        # Predict sales for the input values\n",
    "        prediction = model.predict([[tv_spend, radio_spend, newspaper_spend]])\n",
    "        \n",
    "        # Show the prediction in a message box\n",
    "        messagebox.showinfo(\"Prediction\", f\"Predicted Sales: ${prediction[0]:,.2f}\")\n",
    "    except ValueError:\n",
    "        messagebox.showerror(\"Error\", \"Please enter valid numerical values\")\n",
    "\n",
    "# Create the main application window\n",
    "root = tk.Tk()\n",
    "root.title(\"Sales Prediction\")\n",
    "\n",
    "# Create labels and entry fields for input\n",
    "ttk.Label(root, text=\"TV Ad Spend ($):\").grid(row=0, column=0, padx=10, pady=5)\n",
    "tv_entry = ttk.Entry(root, width=15)\n",
    "tv_entry.grid(row=0, column=1, padx=10, pady=5)\n",
    "\n",
    "ttk.Label(root, text=\"Radio Ad Spend ($):\").grid(row=1, column=0, padx=10, pady=5)\n",
    "radio_entry = ttk.Entry(root, width=15)\n",
    "radio_entry.grid(row=1, column=1, padx=10, pady=5)\n",
    "\n",
    "ttk.Label(root, text=\"Newspaper Ad Spend ($):\").grid(row=2, column=0, padx=10, pady=5)\n",
    "newspaper_entry = ttk.Entry(root, width=15)\n",
    "newspaper_entry.grid(row=2, column=1, padx=10, pady=5)\n",
    "\n",
    "# Create Predict button\n",
    "predict_button = ttk.Button(root, text=\"Predict Sales\", command=predict_sales)\n",
    "predict_button.grid(row=3, column=0, columnspan=2, padx=10, pady=10)\n",
    "\n",
    "# Start the GUI event loop\n",
    "root.mainloop()\n"
   ]
  },
  {
   "cell_type": "code",
   "execution_count": null,
   "id": "4ee0bb6e",
   "metadata": {},
   "outputs": [],
   "source": []
  },
  {
   "cell_type": "code",
   "execution_count": null,
   "id": "23c873f9",
   "metadata": {},
   "outputs": [],
   "source": []
  }
 ],
 "metadata": {
  "kernelspec": {
   "display_name": "Python 3 (ipykernel)",
   "language": "python",
   "name": "python3"
  },
  "language_info": {
   "codemirror_mode": {
    "name": "ipython",
    "version": 3
   },
   "file_extension": ".py",
   "mimetype": "text/x-python",
   "name": "python",
   "nbconvert_exporter": "python",
   "pygments_lexer": "ipython3",
   "version": "3.11.5"
  }
 },
 "nbformat": 4,
 "nbformat_minor": 5
}
