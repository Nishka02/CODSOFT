import pandas as pd
import numpy as np
from sklearn.model_selection import train_test_split
from sklearn.preprocessing import LabelEncoder
from sklearn.linear_model import LogisticRegression
import tkinter as tk
from tkinter import ttk

# Load the dataset and preprocess it
df = pd.read_csv("Titanic-Dataset.csv")

# Fill missing values in 'Embarked' with the most common value
most_embarked = df['Embarked'].mode()[0]
df['Embarked'].fillna(most_embarked, inplace=True)

# Fill missing values in 'Age' with the median value
median_age = df['Age'].median()
df['Age'].fillna(median_age, inplace=True)

# Round up ages to the nearest integer
df['Age'] = np.ceil(df['Age'])

# Drop the 'Cabin' column due to excessive missing values
df.drop(columns=['Cabin'], inplace=True)

# Create a new 'Family' column
df['Family'] = df['SibSp'] + df['Parch']

# Drop unnecessary columns
remove_columns = ['Name', 'Ticket', 'SibSp', 'Parch', 'PassengerId']
df.drop(columns=remove_columns, inplace=True)

# Split data into features and target
X = df.drop(columns=['Survived'])
Y = df['Survived']

# Split data into training and test sets
X_train, X_test, Y_train, Y_test = train_test_split(X, Y, test_size=0.4, random_state=1)

# Combine train and test data for fitting label encoders
combined_sex = pd.concat([X_train['Sex'], X_test['Sex']])
combined_embarked = pd.concat([X_train['Embarked'], X_test['Embarked']])

# Encode categorical variables
label_encoder_sex = LabelEncoder()
label_encoder_sex.fit(combined_sex)
X_train['Sex'] = label_encoder_sex.transform(X_train['Sex'])
X_test['Sex'] = label_encoder_sex.transform(X_test['Sex'])

label_encoder_embarked = LabelEncoder()
label_encoder_embarked.fit(combined_embarked)
X_train['Embarked'] = label_encoder_embarked.transform(X_train['Embarked'])
X_test['Embarked'] = label_encoder_embarked.transform(X_test['Embarked'])

# Train the Logistic Regression model
model = LogisticRegression(max_iter=200)
model.fit(X_train, Y_train)

# Function to make predictions based on user input
def predict_survival():
    try:
        pclass = int(entry_pclass.get())
        sex = entry_sex.get().lower()
        age = np.ceil(float(entry_age.get()))
        fare = float(entry_fare.get())
        embarked = entry_embarked.get().upper()
        family = int(entry_family.get())
        
        sex_encoded = label_encoder_sex.transform([sex])[0]
        embarked_encoded = label_encoder_embarked.transform([embarked])[0]
        
        input_df = pd.DataFrame([[pclass, sex_encoded, age, fare, embarked_encoded, family]], 
                                columns=X_train.columns)
        
        prediction = model.predict(input_df)[0]  # Prediction of survival (0 or 1)
        result = "Yes" if prediction == 1 else "No"
        result_label.config(text=f"Survived: {result}")
    except ValueError as e:
        result_label.config(text=f"Input error: {str(e)}")
    except KeyError as e:
        result_label.config(text=f"Invalid category: {str(e)}")

# GUI
root = tk.Tk()
root.title("Titanic Survival Prediction")
root.geometry("350x450")
root.configure(bg='#ADD8E6')

notebook = ttk.Notebook(root)
notebook.pack(pady=10, expand=True)

# Prediction tab
tab_prediction = tk.Frame(notebook, bg='#ADD8E6')
notebook.add(tab_prediction, text='Prediction')

title_label = tk.Label(tab_prediction, text="Titanic Survival Prediction", font=("Helvetica", 16, "bold"), bg='#ADD8E6')
title_label.pack(pady=10)

frame = tk.Frame(tab_prediction, bg='#ADD8E6')
frame.pack(pady=10)

labels = ["Pclass (1, 2, 3)", "Sex (male/female)", "Age", "Fare", "Embarked (C/Q/S)", "Family Size"]
entries = []

for i, label in enumerate(labels):
    lbl = tk.Label(frame, text=label, font=("Helvetica", 12), bg='#ADD8E6')
    lbl.grid(row=i, column=0, padx=5, pady=5, sticky="e")
    entry = tk.Entry(frame, font=("Helvetica", 12))
    entry.grid(row=i, column=1, padx=5, pady=5)
    entries.append(entry)

entry_pclass, entry_sex, entry_age, entry_fare, entry_embarked, entry_family = entries

predict_button = tk.Button(tab_prediction, text="Predict", command=predict_survival, font=("Helvetica", 12, "bold"), bg='#87CEEB')
predict_button.pack(pady=20)

result_label = tk.Label(tab_prediction, text="", font=("Helvetica", 14, "bold"), bg='#ADD8E6')
result_label.pack(pady=10)

# Run 
root.mainloop()
